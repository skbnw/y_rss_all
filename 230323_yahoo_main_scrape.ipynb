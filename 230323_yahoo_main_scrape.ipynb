{
  "nbformat": 4,
  "nbformat_minor": 0,
  "metadata": {
    "colab": {
      "provenance": [],
      "authorship_tag": "ABX9TyN4fUPtFNysJ/mpPKY3gNAM",
      "include_colab_link": true
    },
    "kernelspec": {
      "name": "python3",
      "display_name": "Python 3"
    },
    "language_info": {
      "name": "python"
    }
  },
  "cells": [
    {
      "cell_type": "markdown",
      "metadata": {
        "id": "view-in-github",
        "colab_type": "text"
      },
      "source": [
        "<a href=\"https://colab.research.google.com/github/skbnw/scrape_nicar23/blob/main/230323_yahoo_main_scrape.ipynb\" target=\"_parent\"><img src=\"https://colab.research.google.com/assets/colab-badge.svg\" alt=\"Open In Colab\"/></a>"
      ]
    },
    {
      "cell_type": "code",
      "execution_count": 3,
      "metadata": {
        "colab": {
          "base_uri": "https://localhost:8080/"
        },
        "id": "NnuKRhm9M_b-",
        "outputId": "9a2a684c-aac9-4794-a7eb-791f3ef2fd33"
      },
      "outputs": [
        {
          "output_type": "stream",
          "name": "stdout",
          "text": [
            "Error 403: Unable to fetch data from the provided URL.\n"
          ]
        }
      ],
      "source": [
        "#YahooMainからのスクレイプ\n",
        "\n",
        "import requests\n",
        "from bs4 import BeautifulSoup\n",
        "import csv\n",
        "from datetime import datetime\n",
        "\n",
        "def get_headlines_and_details(url):\n",
        "    headlines_details = []\n",
        "    while url:\n",
        "        response = requests.get(url)\n",
        "        if response.status_code == 200:\n",
        "            soup = BeautifulSoup(response.text, 'html.parser')\n",
        "            for item in soup.find_all(class_='newsFeed_item'):\n",
        "                headline_element = item.find(class_='newsFeed_item_title')\n",
        "                date_element = item.find(class_='newsFeed_item_date')\n",
        "                link_element = item.find(class_='newsFeed_item_link')\n",
        "\n",
        "                if headline_element and date_element and link_element:\n",
        "                    headline = headline_element.text.strip()\n",
        "                    date = date_element.text.strip()\n",
        "                    link = link_element['href']\n",
        "                    current_time = datetime.now().strftime('%Y-%m-%d %H:%M:%S')\n",
        "                    headlines_details.append((headline, date, link, current_time))\n",
        "\n",
        "            next_page = soup.find('a', class_='next')\n",
        "            if next_page:\n",
        "                url = next_page['href']\n",
        "            else:\n",
        "                break\n",
        "        else:\n",
        "            print(f\"Error {response.status_code}: Unable to fetch data from the provided URL.\")\n",
        "            break\n",
        "\n",
        "    return headlines_details\n",
        "\n",
        "def save_to_csv(data, filename):\n",
        "    with open(filename, 'w', newline='', encoding='utf-8') as csvfile:\n",
        "        csv_writer = csv.writer(csvfile)\n",
        "        csv_writer.writerow(['Headline', 'Date', 'URL', 'Scraped At'])\n",
        "        for row in data:\n",
        "            csv_writer.writerow(row)\n",
        "\n",
        "def main():\n",
        "    url = \"https://news.yahoo.co.jp/topics/top-picks\"\n",
        "    headlines_details = get_headlines_and_details(url)\n",
        "    if headlines_details:\n",
        "        print(\"Headlines, Dates, and URLs:\")\n",
        "        for i, (headline, date, link, scraped_at) in enumerate(headlines_details, 1):\n",
        "            print(f\"{i}. {headline} ({date})\\nURL: {link}\\nScraped At: {scraped_at}\\n\")\n",
        "        \n",
        "        current_time = datetime.now().strftime('%y%m%d%H%M')\n",
        "        csv_filename = f'headlines_{current_time}.csv'\n",
        "        save_to_csv(headlines_details, csv_filename)\n",
        "        print(f\"Data saved to {csv_filename}\")\n",
        "\n",
        "if __name__ == \"__main__\":\n",
        "    main()\n"
      ]
    }
  ]
}